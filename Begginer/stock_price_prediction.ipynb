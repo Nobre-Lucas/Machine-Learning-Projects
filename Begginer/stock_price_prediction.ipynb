{
 "cells": [
  {
   "cell_type": "code",
   "execution_count": 1,
   "id": "df825caf",
   "metadata": {},
   "outputs": [],
   "source": [
    "import numpy as np\n",
    "import pandas as pd\n",
    "from sklearn import preprocessing\n",
    "from sklearn.model_selection import train_test_split\n",
    "from sklearn.linear_model import LinearRegression"
   ]
  },
  {
   "cell_type": "code",
   "execution_count": 2,
   "id": "c3927e9d",
   "metadata": {},
   "outputs": [],
   "source": [
    "def prepare_data(df,forecast_col,forecast_out,test_size):\n",
    "    label = df[forecast_col].shift(-forecast_out) #creating new column called label with the last 5 rows are nan\n",
    "    X = np.array(df[[forecast_col]]) #creating the feature array\n",
    "    X = preprocessing.scale(X) #processing the feature array\n",
    "    X_lately = X[-forecast_out:] #creating the column i want to use later in the predicting method\n",
    "    X = X[:-forecast_out] # X that will contain the training and testing\n",
    "    label.dropna(inplace=True) #dropping na values\n",
    "    y = np.array(label)  # assigning Y\n",
    "    X_train, X_test, Y_train, Y_test = train_test_split(X, y, test_size=test_size, random_state=0) #cross validation\n",
    "\n",
    "    response = [X_train, X_test , Y_train, Y_test , X_lately]\n",
    "    return response"
   ]
  },
  {
   "cell_type": "code",
   "execution_count": 3,
   "id": "e5000e51",
   "metadata": {},
   "outputs": [],
   "source": [
    "df = pd.read_csv(\"./Data/BTC-USD.csv\")"
   ]
  },
  {
   "cell_type": "code",
   "execution_count": 4,
   "id": "0280d32d",
   "metadata": {},
   "outputs": [],
   "source": [
    "forecast_col = 'Close'\n",
    "forecast_out = 5\n",
    "test_size = 0.2"
   ]
  },
  {
   "cell_type": "code",
   "execution_count": 5,
   "id": "07cfd258",
   "metadata": {},
   "outputs": [
    {
     "data": {
      "text/plain": [
       "LinearRegression()"
      ]
     },
     "execution_count": 5,
     "metadata": {},
     "output_type": "execute_result"
    }
   ],
   "source": [
    "X_train, X_test, Y_train, Y_test , X_lately = prepare_data(df,forecast_col,forecast_out,test_size); #calling the method were the cross validation and data preperation is in\n",
    "learner = LinearRegression() #initializing linear regression model\n",
    "\n",
    "learner.fit(X_train,Y_train) #training the linear regression model"
   ]
  },
  {
   "cell_type": "code",
   "execution_count": 6,
   "id": "6c470ec1",
   "metadata": {},
   "outputs": [
    {
     "name": "stdout",
     "output_type": "stream",
     "text": [
      "{'test_score': 0.8499104295704448, 'forecast_set': array([41701.24673479, 41583.71431694, 40808.21423149, 40087.62316926,\n",
      "       40137.41073517])}\n"
     ]
    }
   ],
   "source": [
    "score = learner.score(X_test,Y_test)#testing the linear regression model\n",
    "forecast = learner.predict(X_lately) #set that will contain the forecasted data\n",
    "response = {}#creting json object\n",
    "response['test_score'] = score\n",
    "response['forecast_set'] = forecast\n",
    "\n",
    "print(response)"
   ]
  },
  {
   "cell_type": "code",
   "execution_count": null,
   "id": "77919c69",
   "metadata": {},
   "outputs": [],
   "source": []
  }
 ],
 "metadata": {
  "kernelspec": {
   "display_name": "Python 3 (ipykernel)",
   "language": "python",
   "name": "python3"
  },
  "language_info": {
   "codemirror_mode": {
    "name": "ipython",
    "version": 3
   },
   "file_extension": ".py",
   "mimetype": "text/x-python",
   "name": "python",
   "nbconvert_exporter": "python",
   "pygments_lexer": "ipython3",
   "version": "3.8.8"
  }
 },
 "nbformat": 4,
 "nbformat_minor": 5
}
